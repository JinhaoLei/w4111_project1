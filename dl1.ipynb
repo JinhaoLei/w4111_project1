{
  "nbformat": 4,
  "nbformat_minor": 0,
  "metadata": {
    "colab": {
      "name": "Untitled0.ipynb",
      "version": "0.3.2",
      "provenance": [],
      "collapsed_sections": []
    },
    "kernelspec": {
      "name": "python3",
      "display_name": "Python 3"
    },
    "accelerator": "TPU"
  },
  "cells": [
    {
      "metadata": {
        "id": "iYgM67yjcPxo",
        "colab_type": "code",
        "outputId": "51160348-94fa-4b25-f5a6-b036910c850e",
        "colab": {
          "base_uri": "https://localhost:8080/",
          "height": 50
        }
      },
      "cell_type": "code",
      "source": [
        "import torch, torchvision\n",
        "transform = torchvision.transforms.Compose(\n",
        "[torchvision.transforms.ToTensor(),\n",
        "torchvision.transforms.Normalize((0.5, 0.5, 0.5), (0.5, 0.5, 0.5))])\n",
        "trainset = torchvision.datasets.CIFAR10(root='./data', train=True,\n",
        "download=True, transform=transform)\n",
        "testset = torchvision.datasets.CIFAR10(root='./data', train=False,\n",
        "download=True, transform=transform)"
      ],
      "execution_count": 10,
      "outputs": [
        {
          "output_type": "stream",
          "text": [
            "Downloading https://www.cs.toronto.edu/~kriz/cifar-10-python.tar.gz to ./data/cifar-10-python.tar.gz\n",
            "Files already downloaded and verified\n"
          ],
          "name": "stdout"
        }
      ]
    },
    {
      "metadata": {
        "id": "mDAxouFEbDqp",
        "colab_type": "code",
        "colab": {}
      },
      "cell_type": "code",
      "source": [
        "import random #shuffle the whole set and split it into train set and valid set\n",
        "sids = list(range(50000))\n",
        "random.shuffle(sids)\n",
        "train_sids = sids[:45000]\n",
        "valid_sids = sids[45000:]"
      ],
      "execution_count": 0,
      "outputs": []
    },
    {
      "metadata": {
        "id": "K2ESqYylgY8o",
        "colab_type": "code",
        "colab": {}
      },
      "cell_type": "code",
      "source": [
        "all_data = [] #extract data and labels from dataset\n",
        "all_labels = []\n",
        "for i in range(len(trainset)):\n",
        "  all_data.append(trainset[i][0].numpy().flatten())\n",
        "  all_labels.append(trainset[i][1])\n"
      ],
      "execution_count": 0,
      "outputs": []
    },
    {
      "metadata": {
        "id": "_EZ0TuZwg8T6",
        "colab_type": "code",
        "colab": {}
      },
      "cell_type": "code",
      "source": [
        "print ('haahh')"
      ],
      "execution_count": 0,
      "outputs": []
    },
    {
      "metadata": {
        "id": "nCBZ_49Vd1K7",
        "colab_type": "code",
        "colab": {}
      },
      "cell_type": "code",
      "source": [
        "all_data = np.array(all_data) \n",
        "#obtain train set and valid set according to indexed ids\n",
        "all_labels = np.array(all_labels)\n",
        "train_data = all_data[train_sids]\n",
        "train_labels = all_labels[train_sids]\n",
        "valid_data = all_data[valid_sids]\n",
        "valid_labels = all_labels[valid_sids]\n"
      ],
      "execution_count": 0,
      "outputs": []
    },
    {
      "metadata": {
        "id": "CA6w0zrid3QZ",
        "colab_type": "code",
        "colab": {}
      },
      "cell_type": "code",
      "source": [
        "import time\n",
        "import numpy as np\n",
        "class NeuralNetwork:\n",
        "    def __init__(self, layer_dimensions):\n",
        "        self.n_layers = len(layer_dimensions)\n",
        "        self.weights = []\n",
        "        self.bias = []\n",
        "        self.num_class = 10\n",
        "        self.trained_weights = []\n",
        "        self.trained_bias = []\n",
        "        for i in range(self.n_layers - 1): #initialization\n",
        "            self.weights.append(np.random.uniform(-0.01, 0.01, \\\n",
        "                           (layer_dimensions[i], layer_dimensions[i+1])))\n",
        "            self.bias.append(np.zeros(layer_dimensions[i+1]))\n",
        "\n",
        "\n",
        "    def affineForward(self, A, W, b):\n",
        "        return np.dot(A, W) + b \n",
        "    def activationForward(self, A):\n",
        "        A[A<0] = 0.0\n",
        "        return A\n",
        "    def forwardPropagation(self, X, dropout):\n",
        "        self.A = []\n",
        "        self.Z = []\n",
        "        if dropout: #apply dropout on the input layer\n",
        "            X *= 1.0 / 0.7 * np.random.binomial(1, 0.7, np.shape(X))\n",
        "        for i in range(self.n_layers - 1):\n",
        "            self.A.append(X)\n",
        "            X = self.affineForward(X, self.weights[i], self.bias[i])\n",
        "            self.Z.append(X)\n",
        "            if i < self.n_layers - 1 - 1: \n",
        "                #the last layer doesn't have activations\n",
        "                X = self.activationForward(X)\n",
        "                if dropout and i==0: #apply dropout on the first layer\n",
        "                    X *= 1.0 / 0.7 * np.random.binomial(1, 0.7, np.shape(X))\n",
        "        \n",
        "        return X\n",
        "    def softmax(self, A):\n",
        "        A = A - np.max(A, 1, keepdims=True) \n",
        "        #subtract maximum value to maintain numerical stability\n",
        "\n",
        "        return np.exp(A) / np.sum(np.exp(A), 1, keepdims=True)\n",
        "    def costFunction(self, AL, labels):\n",
        "        probs = self.softmax(AL)\n",
        "        loss = 0.0\n",
        "        for i in range(len(labels)):\n",
        "            loss += - np.log(probs[i][labels[i]]) #cross entropy loss\n",
        "        return probs, loss / len(labels)\n",
        "    def affineBackward(self, dA_prev, cache):\n",
        "        pass\n",
        "    def activationBackward(self, dA, cache):\n",
        "        pass\n",
        "    def backPropagation(self, probs, labels): \n",
        "        #probs are matrix of predicted probability distribution\n",
        "        #labels are true labels\n",
        "        gradients_w = []                      \n",
        "        gradients_b = []\n",
        "\n",
        "        delta_last = np.zeros((len(labels), self.num_class)) \n",
        "        for i in range(len(labels)): \n",
        "            #calculate the last layer (softmax layer) error signal (delta)\n",
        "            for j in range(self.num_class):\n",
        "                if j == labels[i]: #-1/p * derivation of softmax\n",
        "                    delta_last[i][j] = - 1.0 / probs[i][labels[i]] \\\n",
        "                    * probs[i][j] * (1 - probs[i][j])\n",
        "                else: # -1/p * derivation of softmax\n",
        "                    delta_last[i][j] = 1.0 / probs[i][labels[i]] \\\n",
        "                    * probs[i][j] * probs[i][labels[i]]\n",
        "\n",
        "        for i in range(self.n_layers - 2, -1, -1): \n",
        "            #calculate the gradient of w, b and the error signal\n",
        "            gradient_w = 1.0 / len(labels) * np.dot(self.A[-1].T, delta_last) \n",
        "            #dJ/dw_l = dot(A_l.T, delta_l+1)\n",
        "            gradient_b = np.average(delta_last, 0) \n",
        "            #dJ/db_l = delta_l+1\n",
        "\n",
        "            gradients_w.append(gradient_w)\n",
        "            gradients_b.append(gradient_b) \n",
        "            if i >= 1: #delta_l = dot(delta_l+1, w_l+1.T) * f'(z_l+1). \n",
        "                #delta is needed for layers except input layer\n",
        "                delta_last = np.dot(delta_last, np.transpose(self.weights[i])) \\\n",
        "                * self.reluGradient(self.Z[i-1])\n",
        "            self.A.pop()\n",
        "        return gradients_w, gradients_b\n",
        "\n",
        "        \n",
        "\n",
        "    def reluGradient(self, Z):\n",
        "        Z[Z>0] = 1.0\n",
        "        Z[Z<0] = 0\n",
        "        return Z\n",
        "\n",
        "    def updateParameters(self, gradients, alpha):\n",
        "        gradients_w, gradients_b = gradients\n",
        "        for i in range(self.n_layers - 1):#gradient descent\n",
        "            self.weights[i] -= alpha * gradients_w[-(i+1)]\n",
        "            self.bias[i] -= alpha * gradients_b[-(i+1)]\n",
        "\n",
        "    def runEpoch(self, data, labels, batch_size, if_train, lr): \n",
        "        #run one traversal on dataset\n",
        "        tmp_data = data.copy()\n",
        "        tmp_golds = labels.copy()\n",
        "\n",
        "        if if_train: #shuffle training data before each run\n",
        "            sids = list(range(len(data)))\n",
        "            random.shuffle(sids)\n",
        "            for index in range(len(sids)):\n",
        "                tmp_data[index] = data[sids[index]]\n",
        "                tmp_golds[index] = labels[sids[index]]\n",
        "\t\t\n",
        "        tmp_data = tmp_data[:len(tmp_data)-len(tmp_data) % batch_size] \n",
        "        #split data and labels into mini batches\n",
        "        iter_size = int(len(tmp_data) / batch_size)  \n",
        "        # number of iteration needed\n",
        "        tmp_data = tmp_data.reshape((iter_size, batch_size, -1))\n",
        "\n",
        "        tmp_golds = tmp_golds[:len(tmp_golds)-len(tmp_golds) % batch_size]\n",
        "        tmp_golds = tmp_golds.reshape((iter_size, batch_size))\n",
        "        total_loss = 0.0\n",
        "        num_corrects = 0\n",
        "        for j in range(iter_size):\n",
        "\n",
        "            if if_train: #use dropout on training set\n",
        "            \tAL = self.forwardPropagation(tmp_data[j], True)\n",
        "            else:\n",
        "            \tAL = self.forwardPropagation(tmp_data[j], False)\n",
        "            probs, loss = self.costFunction(AL, tmp_golds[j])\n",
        "            num_corrects += np.sum(np.argmax(probs, 1) == tmp_golds[j])\n",
        "            total_loss += loss\n",
        "\n",
        "            if if_train: #do back propagation when training\n",
        "                gradients_w, gradients_b = self.backPropagation(probs, \n",
        "                                                                tmp_golds[j])\n",
        "                self.updateParameters([gradients_w, gradients_b], lr)\n",
        "        acc = float(num_corrects) / (iter_size * batch_size)\n",
        "        return total_loss / iter_size, acc\n",
        "        #return loss and accuracy\n",
        "\n",
        "    def train(self, train_data, valid_data, train_labels, valid_labels, \n",
        "              max_epoch, epochs, alpha, batch_size):\n",
        "        lr = alpha\n",
        "        best_valid = float('-inf')\n",
        "        for i in range(epochs):\n",
        "            epoch_start_time = time.time()\n",
        "            train_loss, train_acc = self.runEpoch(train_data, train_labels, \n",
        "                                                  batch_size, True, lr)\n",
        "            valid_loss, valid_acc = self.runEpoch(valid_data, valid_labels, \n",
        "                                                  batch_size, False, lr)\n",
        "            if valid_acc > best_valid:\n",
        "                best_valid = valid_acc\n",
        "                self.trained_weights = \\\n",
        "                [weight.copy() for weight in self.weights] \n",
        "                #store the best weights and bias\n",
        "                self.trained_bias = [bias.copy() for bias in self.bias]\n",
        "            else:\n",
        "                if i >= max_epoch: #after max_epoch, reduce the learning rate\n",
        "                    lr *= 0.8\n",
        "                        \n",
        "            print('| epoch {:2d}| lr: {:.5f} | time: {:4.2f}s | \\\n",
        "train_acc {:5.4f} |\\n| train_loss {:5.5f} | valid_acc {:5.4f} | best_acc {:.4f}\\\n",
        " |'.format(i, lr, (time.time() - epoch_start_time), train_acc, \\\n",
        "                  train_loss, valid_acc, best_valid))\n",
        "\n",
        "    def predict(self, X_new, batch_size):\n",
        "        self.weights = [weight.copy() for weight in self.trained_weights]\n",
        "        self.bias = [bias.copy() for bias in self.trained_bias]\n",
        "        #reload the best trained weights and bias from class attrributes\n",
        "        tmp_data = X_new.copy()\n",
        "\n",
        "        tmp_data = tmp_data[:len(tmp_data)-len(tmp_data) % batch_size] \n",
        "        #split data and labels into mini batches\n",
        "        iter_size = int(len(tmp_data) / batch_size)  \n",
        "        # number of iteration needed\n",
        "        tmp_data = tmp_data.reshape((iter_size, batch_size, -1))\n",
        "        predicts = []\n",
        "        for j in range(iter_size):\n",
        "            AL = self.forwardPropagation(tmp_data[j], False)\n",
        "            probs = self.softmax(AL)\n",
        "            predicts.extend(np.argmax(probs, 1)) #get the predicted labels\n",
        "        return predicts\n",
        "            "
      ],
      "execution_count": 0,
      "outputs": []
    },
    {
      "metadata": {
        "colab_type": "code",
        "outputId": "b83e77e7-0dcb-487a-c295-c267f4a40fdd",
        "id": "nXAvMicxnRIl",
        "colab": {
          "base_uri": "https://localhost:8080/",
          "height": 1865
        }
      },
      "cell_type": "code",
      "source": [
        "model = NeuralNetwork([3072, 1024, 512, 256, 10])\n",
        "model.train(train_data, valid_data, train_labels, valid_labels, \n",
        "            max_epoch=20, epochs=55, alpha=0.5, batch_size=500)"
      ],
      "execution_count": 0,
      "outputs": [
        {
          "output_type": "stream",
          "text": [
            "| epoch  0| lr: 0.50000 | time: 45.19s | train_acc 0.1036 |\n",
            "| train_loss 2.30267 | valid_acc 0.1220 | best_acc 0.1220 |\n",
            "| epoch  1| lr: 0.50000 | time: 45.88s | train_acc 0.1610 |\n",
            "| train_loss 2.19696 | valid_acc 0.1980 | best_acc 0.1980 |\n",
            "| epoch  2| lr: 0.50000 | time: 46.17s | train_acc 0.2329 |\n",
            "| train_loss 1.97821 | valid_acc 0.2786 | best_acc 0.2786 |\n",
            "| epoch  3| lr: 0.50000 | time: 45.45s | train_acc 0.2938 |\n",
            "| train_loss 1.86607 | valid_acc 0.3428 | best_acc 0.3428 |\n",
            "| epoch  4| lr: 0.50000 | time: 45.18s | train_acc 0.3527 |\n",
            "| train_loss 1.76727 | valid_acc 0.3892 | best_acc 0.3892 |\n",
            "| epoch  5| lr: 0.50000 | time: 45.79s | train_acc 0.3958 |\n",
            "| train_loss 1.66490 | valid_acc 0.4072 | best_acc 0.4072 |\n",
            "| epoch  6| lr: 0.50000 | time: 45.21s | train_acc 0.4249 |\n",
            "| train_loss 1.59180 | valid_acc 0.4488 | best_acc 0.4488 |\n",
            "| epoch  7| lr: 0.50000 | time: 45.80s | train_acc 0.4470 |\n",
            "| train_loss 1.53465 | valid_acc 0.4654 | best_acc 0.4654 |\n",
            "| epoch  8| lr: 0.50000 | time: 45.59s | train_acc 0.4701 |\n",
            "| train_loss 1.47649 | valid_acc 0.4688 | best_acc 0.4688 |\n",
            "| epoch  9| lr: 0.50000 | time: 46.93s | train_acc 0.4915 |\n",
            "| train_loss 1.43335 | valid_acc 0.4844 | best_acc 0.4844 |\n",
            "| epoch 10| lr: 0.50000 | time: 45.35s | train_acc 0.5064 |\n",
            "| train_loss 1.38642 | valid_acc 0.4774 | best_acc 0.4844 |\n",
            "| epoch 11| lr: 0.50000 | time: 45.23s | train_acc 0.5235 |\n",
            "| train_loss 1.33653 | valid_acc 0.4904 | best_acc 0.4904 |\n",
            "| epoch 12| lr: 0.50000 | time: 45.60s | train_acc 0.5335 |\n",
            "| train_loss 1.31156 | valid_acc 0.4930 | best_acc 0.4930 |\n",
            "| epoch 13| lr: 0.50000 | time: 45.42s | train_acc 0.5453 |\n",
            "| train_loss 1.28088 | valid_acc 0.5154 | best_acc 0.5154 |\n",
            "| epoch 14| lr: 0.50000 | time: 45.96s | train_acc 0.5543 |\n",
            "| train_loss 1.25086 | valid_acc 0.5286 | best_acc 0.5286 |\n",
            "| epoch 15| lr: 0.50000 | time: 45.34s | train_acc 0.5695 |\n",
            "| train_loss 1.20914 | valid_acc 0.5292 | best_acc 0.5292 |\n",
            "| epoch 16| lr: 0.50000 | time: 46.91s | train_acc 0.5788 |\n",
            "| train_loss 1.17873 | valid_acc 0.5472 | best_acc 0.5472 |\n",
            "| epoch 17| lr: 0.50000 | time: 45.16s | train_acc 0.5913 |\n",
            "| train_loss 1.14931 | valid_acc 0.5180 | best_acc 0.5472 |\n",
            "| epoch 18| lr: 0.50000 | time: 45.17s | train_acc 0.5936 |\n",
            "| train_loss 1.13213 | valid_acc 0.5292 | best_acc 0.5472 |\n",
            "| epoch 19| lr: 0.50000 | time: 45.15s | train_acc 0.6084 |\n",
            "| train_loss 1.09781 | valid_acc 0.5336 | best_acc 0.5472 |\n",
            "| epoch 20| lr: 0.40000 | time: 45.29s | train_acc 0.6159 |\n",
            "| train_loss 1.07465 | valid_acc 0.5424 | best_acc 0.5472 |\n",
            "| epoch 21| lr: 0.32000 | time: 45.35s | train_acc 0.6484 |\n",
            "| train_loss 0.98302 | valid_acc 0.5428 | best_acc 0.5472 |\n",
            "| epoch 22| lr: 0.32000 | time: 46.52s | train_acc 0.6698 |\n",
            "| train_loss 0.92329 | valid_acc 0.5628 | best_acc 0.5628 |\n",
            "| epoch 23| lr: 0.25600 | time: 45.74s | train_acc 0.6754 |\n",
            "| train_loss 0.90397 | valid_acc 0.5562 | best_acc 0.5628 |\n",
            "| epoch 24| lr: 0.25600 | time: 45.67s | train_acc 0.6941 |\n",
            "| train_loss 0.85512 | valid_acc 0.5710 | best_acc 0.5710 |\n",
            "| epoch 25| lr: 0.20480 | time: 45.17s | train_acc 0.6992 |\n",
            "| train_loss 0.83220 | valid_acc 0.5600 | best_acc 0.5710 |\n",
            "| epoch 26| lr: 0.16384 | time: 45.21s | train_acc 0.7174 |\n",
            "| train_loss 0.79022 | valid_acc 0.5652 | best_acc 0.5710 |\n",
            "| epoch 27| lr: 0.16384 | time: 45.05s | train_acc 0.7302 |\n",
            "| train_loss 0.75561 | valid_acc 0.5778 | best_acc 0.5778 |\n",
            "| epoch 28| lr: 0.13107 | time: 45.62s | train_acc 0.7355 |\n",
            "| train_loss 0.73841 | valid_acc 0.5720 | best_acc 0.5778 |\n",
            "| epoch 29| lr: 0.10486 | time: 46.70s | train_acc 0.7486 |\n",
            "| train_loss 0.70800 | valid_acc 0.5776 | best_acc 0.5778 |\n",
            "| epoch 30| lr: 0.08389 | time: 45.81s | train_acc 0.7584 |\n",
            "| train_loss 0.68216 | valid_acc 0.5764 | best_acc 0.5778 |\n",
            "| epoch 31| lr: 0.08389 | time: 45.73s | train_acc 0.7651 |\n",
            "| train_loss 0.65907 | valid_acc 0.5830 | best_acc 0.5830 |\n",
            "| epoch 32| lr: 0.06711 | time: 45.16s | train_acc 0.7678 |\n",
            "| train_loss 0.65274 | valid_acc 0.5794 | best_acc 0.5830 |\n",
            "| epoch 33| lr: 0.05369 | time: 45.42s | train_acc 0.7759 |\n",
            "| train_loss 0.62983 | valid_acc 0.5780 | best_acc 0.5830 |\n",
            "| epoch 34| lr: 0.04295 | time: 45.47s | train_acc 0.7811 |\n",
            "| train_loss 0.61457 | valid_acc 0.5794 | best_acc 0.5830 |\n",
            "| epoch 35| lr: 0.04295 | time: 45.27s | train_acc 0.7862 |\n",
            "| train_loss 0.60469 | valid_acc 0.5836 | best_acc 0.5836 |\n",
            "| epoch 36| lr: 0.04295 | time: 46.58s | train_acc 0.7903 |\n",
            "| train_loss 0.59420 | valid_acc 0.5852 | best_acc 0.5852 |\n",
            "| epoch 37| lr: 0.03436 | time: 45.39s | train_acc 0.7919 |\n",
            "| train_loss 0.58824 | valid_acc 0.5820 | best_acc 0.5852 |\n",
            "| epoch 38| lr: 0.02749 | time: 45.43s | train_acc 0.7970 |\n",
            "| train_loss 0.58019 | valid_acc 0.5824 | best_acc 0.5852 |\n",
            "| epoch 39| lr: 0.02199 | time: 45.07s | train_acc 0.7974 |\n",
            "| train_loss 0.57335 | valid_acc 0.5850 | best_acc 0.5852 |\n",
            "| epoch 40| lr: 0.01759 | time: 45.09s | train_acc 0.8006 |\n",
            "| train_loss 0.56525 | valid_acc 0.5796 | best_acc 0.5852 |\n",
            "| epoch 41| lr: 0.01407 | time: 45.10s | train_acc 0.8015 |\n",
            "| train_loss 0.56476 | valid_acc 0.5796 | best_acc 0.5852 |\n",
            "| epoch 42| lr: 0.01126 | time: 45.25s | train_acc 0.8031 |\n",
            "| train_loss 0.55732 | valid_acc 0.5824 | best_acc 0.5852 |\n",
            "| epoch 43| lr: 0.00901 | time: 46.24s | train_acc 0.8042 |\n",
            "| train_loss 0.55657 | valid_acc 0.5842 | best_acc 0.5852 |\n",
            "| epoch 44| lr: 0.00721 | time: 45.26s | train_acc 0.8053 |\n",
            "| train_loss 0.55391 | valid_acc 0.5816 | best_acc 0.5852 |\n",
            "| epoch 45| lr: 0.00576 | time: 45.18s | train_acc 0.8047 |\n",
            "| train_loss 0.55263 | valid_acc 0.5822 | best_acc 0.5852 |\n",
            "| epoch 46| lr: 0.00461 | time: 45.35s | train_acc 0.8070 |\n",
            "| train_loss 0.55016 | valid_acc 0.5830 | best_acc 0.5852 |\n",
            "| epoch 47| lr: 0.00369 | time: 45.26s | train_acc 0.8094 |\n",
            "| train_loss 0.54241 | valid_acc 0.5834 | best_acc 0.5852 |\n",
            "| epoch 48| lr: 0.00295 | time: 45.24s | train_acc 0.8088 |\n",
            "| train_loss 0.54447 | valid_acc 0.5824 | best_acc 0.5852 |\n",
            "| epoch 49| lr: 0.00236 | time: 45.51s | train_acc 0.8070 |\n",
            "| train_loss 0.54431 | valid_acc 0.5828 | best_acc 0.5852 |\n",
            "| epoch 50| lr: 0.00189 | time: 46.00s | train_acc 0.8092 |\n",
            "| train_loss 0.54252 | valid_acc 0.5822 | best_acc 0.5852 |\n",
            "| epoch 51| lr: 0.00151 | time: 45.31s | train_acc 0.8082 |\n",
            "| train_loss 0.54441 | valid_acc 0.5816 | best_acc 0.5852 |\n",
            "| epoch 52| lr: 0.00121 | time: 45.19s | train_acc 0.8107 |\n",
            "| train_loss 0.53997 | valid_acc 0.5822 | best_acc 0.5852 |\n",
            "| epoch 53| lr: 0.00097 | time: 45.08s | train_acc 0.8090 |\n",
            "| train_loss 0.54046 | valid_acc 0.5818 | best_acc 0.5852 |\n",
            "| epoch 54| lr: 0.00077 | time: 45.13s | train_acc 0.8087 |\n",
            "| train_loss 0.54216 | valid_acc 0.5826 | best_acc 0.5852 |\n"
          ],
          "name": "stdout"
        }
      ]
    },
    {
      "metadata": {
        "id": "p4eVn0mIjiSp",
        "colab_type": "code",
        "colab": {}
      },
      "cell_type": "code",
      "source": [
        "test_data = []\n",
        "test_labels = []\n",
        "for i in range(len(testset)): #extract testdata and testlabel\n",
        "  test_data.append(testset[i][0].numpy().flatten())\n",
        "  test_labels.append(testset[i][1])\n",
        "\n",
        "test_data = np.array(test_data)\n",
        "test_labels = np.array(test_labels)\n"
      ],
      "execution_count": 0,
      "outputs": []
    },
    {
      "metadata": {
        "id": "XXhivsJso6El",
        "colab_type": "code",
        "colab": {
          "base_uri": "https://localhost:8080/",
          "height": 17
        },
        "outputId": "ebbdebcf-99dd-41c0-bb99-b41118695fdf"
      },
      "cell_type": "code",
      "source": [
        "from IPython.core.display import display, HTML\n",
        "display(HTML(\"<style>.container { height:50% !important; }</style>\"))"
      ],
      "execution_count": 119,
      "outputs": [
        {
          "output_type": "display_data",
          "data": {
            "text/html": [
              "<style>.container { height:50% !important; }</style>"
            ],
            "text/plain": [
              "<IPython.core.display.HTML object>"
            ]
          },
          "metadata": {
            "tags": []
          }
        }
      ]
    },
    {
      "metadata": {
        "id": "RsfDHVV3AGDy",
        "colab_type": "code",
        "colab": {
          "base_uri": "https://localhost:8080/",
          "height": 154
        },
        "outputId": "6e229364-b65e-498c-8a67-11ed6f7a6190"
      },
      "cell_type": "code",
      "source": [
        "import matplotlib.pyplot as plt\n",
        "def imshow(img):\n",
        "    img = img / 2 + 0.5 # unnormalize\n",
        "    npimg = img.numpy()\n",
        "    \n",
        "    plt.imshow(np.transpose(npimg, (1, 2, 0)))\n",
        "maps = ['airplane', 'automobile', 'bird', 'cat', 'deer', 'dog', 'frog', 'horse', 'ship', 'truck']\n",
        "samples = model.predict(test_data, 500)[:10]\n",
        "for i in range(5):\n",
        "    ax = plt.subplot(151+i)\n",
        "    ax.set_title('gold: ' + maps[testset[i][1]] + '\\n' + 'predict: ' + maps[samples[i]])\n",
        "    imshow(testset[i][0])"
      ],
      "execution_count": 113,
      "outputs": [
        {
          "output_type": "display_data",
          "data": {
            "image/png": "[encoded data removed]",
            "text/plain": [
              "<Figure size 576x396 with 5 Axes>"
            ]
          },
          "metadata": {
            "tags": []
          }
        }
      ]
    }
  ]
}